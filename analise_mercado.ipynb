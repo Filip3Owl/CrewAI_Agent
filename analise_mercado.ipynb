{
 "cells": [
  {
   "cell_type": "code",
   "execution_count": 1,
   "id": "c3c71da4",
   "metadata": {},
   "outputs": [
    {
     "data": {
      "text/plain": [
       "True"
      ]
     },
     "execution_count": 1,
     "metadata": {},
     "output_type": "execute_result"
    }
   ],
   "source": [
    "from dotenv import load_dotenv, find_dotenv\n",
    "load_dotenv(find_dotenv())"
   ]
  },
  {
   "cell_type": "code",
   "execution_count": 2,
   "id": "376c004e",
   "metadata": {},
   "outputs": [],
   "source": [
    "from crewai import Agent, Task, Crew"
   ]
  },
  {
   "cell_type": "markdown",
   "id": "8c5f42d8",
   "metadata": {},
   "source": [
    "### Agents\n",
    "\n",
    "- Pesquisador de mercado\n",
    "- Analista de tendências\n",
    "- Redator do relatório"
   ]
  },
  {
   "cell_type": "code",
   "execution_count": 4,
   "id": "a393dfda",
   "metadata": {},
   "outputs": [],
   "source": [
    "pesquisador = Agent(\n",
    "    role=\"Pesquisador de mercado\",\n",
    "    goal=\"Coletar e organizar informações relevantes sobre {sector}\",\n",
    "    backstory=\"\"\"\n",
    "         Você é um pesquisador experiente que analisa tendências de mercado e coleta \n",
    "         dados relevantes sobre {sector}. Seu trabalho é garantir que todas as informações\n",
    "         estejam atualizadas e bem documentadas.\n",
    "    \"\"\",\n",
    "    allow_delete=False,\n",
    "    verbose=True)\n"
   ]
  },
  {
   "cell_type": "code",
   "execution_count": null,
   "id": "0af3723e",
   "metadata": {},
   "outputs": [],
   "source": [
    "analista = Agent(\n",
    "    role=\"Analista de dados\",\n",
    "    goal=\"Analisar os dados do setor {sector}\",\n",
    "    backstory=\"\"\"\n",
    "         Você é um analista de dados que transforma informações brutas em insights valiosos.\n",
    "         Seu trabalho é garantir que os dados sejam interpretados corretamente e que as \n",
    "         conclusões sejam baseadas em evidências sólidas.\n",
    "    \"\"\",\n",
    "    allow_delete=False,\n",
    "    verbose=True)   \n",
    "\n",
    "\n"
   ]
  }
 ],
 "metadata": {
  "kernelspec": {
   "display_name": ".venv",
   "language": "python",
   "name": "python3"
  },
  "language_info": {
   "codemirror_mode": {
    "name": "ipython",
    "version": 3
   },
   "file_extension": ".py",
   "mimetype": "text/x-python",
   "name": "python",
   "nbconvert_exporter": "python",
   "pygments_lexer": "ipython3",
   "version": "3.11.0"
  }
 },
 "nbformat": 4,
 "nbformat_minor": 5
}
